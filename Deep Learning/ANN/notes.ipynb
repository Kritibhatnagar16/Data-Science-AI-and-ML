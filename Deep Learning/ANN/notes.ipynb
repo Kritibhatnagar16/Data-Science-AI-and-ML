{
 "cells": [
  {
   "cell_type": "markdown",
   "id": "1e4e9653",
   "metadata": {},
   "source": [
    "## Loss function and Cost function\n",
    "\n",
    "| Term              | Simple Meaning                                                 | Real-World Example                                |\n",
    "| ----------------- | -------------------------------------------------------------- | ------------------------------------------------- |\n",
    "| **Loss Function** | Measures **error for one sample** (how wrong the model is)     | Predicting price for one house and checking error |\n",
    "| **Cost Function** | Measures **average loss for all samples** in the training data | Average error for predicting prices of all houses |\n"
   ]
  },
  {
   "cell_type": "markdown",
   "id": "29561740",
   "metadata": {},
   "source": [
    "## Gradient Descent\n",
    "\n",
    "Gradient Descent is a way for a machine learning model to learn by fixing its mistakes step-by-step, until it gets better and better.\n",
    "\n",
    "It helps the model minimize the error (loss) by adjusting its internal settings (weights) slowly in the right direction.\n",
    "\n",
    "EX:- Learning to Find the Lowest Point in a Valley\n",
    "Imagine you are blindfolded and standing somewhere in a mountain valley. Your goal is to reach the lowest point of the valley (which is the best solution, i.e., lowest loss).\n",
    "\n",
    "Here’s what you do:\n",
    "\n",
    "You feel the slope around you (gradient).\n",
    "\n",
    "You take small steps downward.\n",
    "\n",
    "After each step, you check again.\n",
    "\n",
    "Slowly and carefully, you reach the lowest point — the optimal solution."
   ]
  },
  {
   "cell_type": "code",
   "execution_count": null,
   "id": "e3343f12",
   "metadata": {},
   "outputs": [],
   "source": []
  }
 ],
 "metadata": {
  "language_info": {
   "name": "python"
  }
 },
 "nbformat": 4,
 "nbformat_minor": 5
}
