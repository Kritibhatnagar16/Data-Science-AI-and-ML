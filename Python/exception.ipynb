{
 "cells": [
  {
   "cell_type": "code",
   "execution_count": 1,
   "id": "e6dfb37a",
   "metadata": {},
   "outputs": [
    {
     "name": "stdout",
     "output_type": "stream",
     "text": [
      "kriti\n"
     ]
    }
   ],
   "source": [
    "print(\"kriti\")"
   ]
  },
  {
   "cell_type": "markdown",
   "id": "283cb28a",
   "metadata": {},
   "source": [
    "## Exception Handling\n",
    "\n",
    "\n"
   ]
  },
  {
   "cell_type": "code",
   "execution_count": 4,
   "id": "8d26681e",
   "metadata": {},
   "outputs": [],
   "source": [
    "try:   ##try is connected with else block \n",
    "    pass ##main code\n",
    "except:\n",
    "    pass ### error handling\n",
    "else :\n",
    "    pass ##multiple error\n",
    "finally:\n",
    "    pass ## koi chale na chale main to chalunga\n"
   ]
  },
  {
   "cell_type": "code",
   "execution_count": 5,
   "id": "04bd5896",
   "metadata": {},
   "outputs": [
    {
     "name": "stdout",
     "output_type": "stream",
     "text": [
      "500\n"
     ]
    }
   ],
   "source": [
    "try:\n",
    "    a = int(input(\"enter first no\"))\n",
    "    b = int(input(\"enter second no\"))\n",
    "    print(a*b)\n",
    "except ValueError as e:\n",
    "    print(\"invalid input\" , e)   \n",
    "\n",
    "    ##task ---- how many types of error in python with ex. "
   ]
  },
  {
   "cell_type": "code",
   "execution_count": 6,
   "id": "f60e2872",
   "metadata": {},
   "outputs": [
    {
     "name": "stdout",
     "output_type": "stream",
     "text": [
      "0.0\n"
     ]
    }
   ],
   "source": [
    "try:\n",
    "    a = int(input(\"enter first no\"))\n",
    "    b = int(input(\"enter second no\"))\n",
    "    print(a/b)\n",
    "except ZeroDivisionError as e:\n",
    "    print(e)   "
   ]
  },
  {
   "cell_type": "code",
   "execution_count": 7,
   "id": "3b7b82ed",
   "metadata": {},
   "outputs": [
    {
     "name": "stdout",
     "output_type": "stream",
     "text": [
      "invalid literal for int() with base 10: 'ygjgy'\n"
     ]
    }
   ],
   "source": [
    "try:\n",
    "    a = int(input(\"enter first no\"))\n",
    "    b = int(input(\"enter second no\"))\n",
    "    print(a/b)\n",
    "except Exception as e:\n",
    "    print(e) "
   ]
  },
  {
   "cell_type": "code",
   "execution_count": 9,
   "id": "8d09939d",
   "metadata": {},
   "outputs": [
    {
     "name": "stdout",
     "output_type": "stream",
     "text": [
      "invalid literal for int() with base 10: 'gtfdr'\n",
      "koi chale na chale main to chalunga\n"
     ]
    }
   ],
   "source": [
    "try:    \n",
    "    a = int(input(\"enter number\"))\n",
    "    b = int(input(\"enter number\"))\n",
    "    print(a/b)\n",
    "except Exception as e:\n",
    "    print(e) \n",
    "else :\n",
    "    print(\"no error\")\n",
    "    print(a*b)\n",
    "finally:\n",
    "    print(\"koi chale na chale main to chalunga\")"
   ]
  },
  {
   "cell_type": "code",
   "execution_count": 10,
   "id": "755a4ca8",
   "metadata": {},
   "outputs": [
    {
     "name": "stdout",
     "output_type": "stream",
     "text": [
      "final result 12.5\n",
      "thanks for using python\n"
     ]
    }
   ],
   "source": [
    "try:\n",
    "    num1 = int(input(\"enter number\"))\n",
    "    num2 = int(input(\"enter number\"))\n",
    "    result = num1/num2\n",
    "except ZeroDivisionError as e:\n",
    "    print(e)\n",
    "except ValueError as e:\n",
    "    print(e)\n",
    "except Exception as e:\n",
    "    print(e)    \n",
    "else:\n",
    "    print(\"final result\" ,result)\n",
    "finally:\n",
    "    print(\"thanks for using python\")"
   ]
  },
  {
   "cell_type": "markdown",
   "id": "30fd60fe",
   "metadata": {},
   "source": [
    "## Python Error\n",
    "\n",
    "SyntaxError\n",
    "\n",
    "NameError\n",
    "\n",
    "TypeError\n",
    "\n",
    "ValueError\n",
    "\n",
    "IndexError\n",
    "\n",
    "KeyError\n",
    "\n",
    "AttributeError\n",
    "\n",
    "ZeroDivisionError\n",
    "\n",
    "ImportError / ModuleNotFoundError\n",
    "\n",
    "IndentationError"
   ]
  },
  {
   "cell_type": "markdown",
   "id": "a8515cc1",
   "metadata": {},
   "source": []
  },
  {
   "cell_type": "code",
   "execution_count": null,
   "id": "f5d2cf5a",
   "metadata": {},
   "outputs": [],
   "source": [
    "# -------------------- Start of All Error Examples --------------------\n",
    "\n",
    "# 1. IndentationError\n",
    "def greet():\n",
    "print(\"Hello Kriti!\")  # ❌ Improper indentation → IndentationError\n",
    "\n",
    "\n",
    "# 2. SyntaxError\n",
    "print(\"Hello again\"  # ❌ Missing closing parenthesis → SyntaxError\n",
    "\n",
    "\n",
    "# 3. NameError\n",
    "print(marks)  # ❌ 'marks' is not defined → NameError\n",
    "\n",
    "\n",
    "# 4. TypeError\n",
    "age = \"20\"\n",
    "result = age + 5  # ❌ Can't add string and number → TypeError\n",
    "\n",
    "\n",
    "# 5. ValueError\n",
    "number = int(\"twenty\")  # ❌ Cannot convert to integer → ValueError\n",
    "\n",
    "\n",
    "# 6. IndexError\n",
    "colors = [\"red\", \"green\", \"blue\"]\n",
    "print(colors[5])  # ❌ Index 5 doesn't exist → IndexError\n",
    "\n",
    "\n",
    "# 7. KeyError\n",
    "student = {\"name\": \"Kriti\"}\n",
    "print(student[\"age\"])  # ❌ 'age' key not found → KeyError\n",
    "\n",
    "\n",
    "# 8. AttributeError\n",
    "message = \"hello\"\n",
    "message.append(\" world\")  # ❌ Strings don’t have append → AttributeError\n",
    "\n",
    "\n",
    "# 9. ZeroDivisionError\n",
    "a = 10\n",
    "b = 0\n",
    "print(a / b)  # ❌ Division by zero → ZeroDivisionError\n",
    "\n",
    "\n",
    "# 10. AssertionError\n",
    "temperature = 25\n",
    "assert temperature > 100, \"Too Cold!\"  # ❌ Assertion fails → AssertionError\n",
    "\n",
    "\n",
    "# 11. RuntimeError\n",
    "import sys\n",
    "sys.setrecursionlimit(10)\n",
    "\n",
    "def call_me():\n",
    "    call_me()  # ❌ Infinite recursion → RuntimeError\n",
    "\n",
    "call_me()\n",
    "\n",
    "\n",
    "# 12. ImportError\n",
    "from math import multiply  # ❌ No function 'multiply' in math → ImportError\n",
    "\n",
    "# 13. ModuleNotFoundError\n",
    "import fake_module  # ❌ This module doesn't exist → ModuleNotFoundError\n",
    "\n",
    "# -------------------- End of All Error Examples --------------------\n"
   ]
  },
  {
   "cell_type": "code",
   "execution_count": 1,
   "id": "94316dca",
   "metadata": {},
   "outputs": [
    {
     "name": "stdout",
     "output_type": "stream",
     "text": [
      "1\n",
      "4\n",
      "9\n",
      "16\n"
     ]
    }
   ],
   "source": [
    "try:\n",
    "    start = int(input(\"Enter the starting number: \"))\n",
    "    end = int(input(\"Enter the ending number: \"))\n",
    "\n",
    "    for x in range(start, end):\n",
    "        print(x ** 2)\n",
    "except Exception as e:\n",
    "    print(\"Error:\", e)\n"
   ]
  },
  {
   "cell_type": "code",
   "execution_count": 3,
   "id": "a8f09ccb",
   "metadata": {},
   "outputs": [
    {
     "ename": "SyntaxError",
     "evalue": "invalid non-printable character U+00A0 (3543496761.py, line 3)",
     "output_type": "error",
     "traceback": [
      "  \u001b[36mCell\u001b[39m\u001b[36m \u001b[39m\u001b[32mIn[3]\u001b[39m\u001b[32m, line 3\u001b[39m\n\u001b[31m    \u001b[39m\u001b[31mreturn \"A\"\u001b[39m\n    ^\n\u001b[31mSyntaxError\u001b[39m\u001b[31m:\u001b[39m invalid non-printable character U+00A0\n"
     ]
    }
   ],
   "source": [
    "class A:\n",
    "def func(self):\n",
    "        return \"A\"\n",
    "\n",
    "class B(A):\n",
    "def func(self):\n",
    "        return super().func() + \" -> B\"\n",
    "\n",
    "obj = B()\n",
    "print(obj.func())"
   ]
  },
  {
   "cell_type": "code",
   "execution_count": null,
   "id": "993914f4",
   "metadata": {},
   "outputs": [],
   "source": []
  }
 ],
 "metadata": {
  "kernelspec": {
   "display_name": "Python 3",
   "language": "python",
   "name": "python3"
  },
  "language_info": {
   "codemirror_mode": {
    "name": "ipython",
    "version": 3
   },
   "file_extension": ".py",
   "mimetype": "text/x-python",
   "name": "python",
   "nbconvert_exporter": "python",
   "pygments_lexer": "ipython3",
   "version": "3.11.5"
  }
 },
 "nbformat": 4,
 "nbformat_minor": 5
}
