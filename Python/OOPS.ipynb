{
 "cells": [
  {
   "cell_type": "code",
   "execution_count": 1,
   "id": "915e7c8f",
   "metadata": {},
   "outputs": [],
   "source": [
    "###oops concept in python\n",
    "\n",
    "#global variable  >>>>>>padna h\n",
    "#local variable\n",
    "\n"
   ]
  },
  {
   "cell_type": "code",
   "execution_count": null,
   "id": "12ffaba3",
   "metadata": {},
   "outputs": [],
   "source": [
    "class Class_name:   ###class name\n",
    "    pass        ###place\n",
    "#class is keyword\n"
   ]
  },
  {
   "cell_type": "code",
   "execution_count": 12,
   "id": "134ae31b",
   "metadata": {},
   "outputs": [
    {
     "name": "stdout",
     "output_type": "stream",
     "text": [
      "my name is kriti and my age is 20\n"
     ]
    }
   ],
   "source": [
    "class Student:\n",
    "    name = \"kriti\" ##clas variable\n",
    "    age = 20\n",
    "    print(f\"my name is {name} and my age is {age}\")\n",
    "obj_st=Student()"
   ]
  },
  {
   "cell_type": "code",
   "execution_count": 13,
   "id": "0b3fe475",
   "metadata": {},
   "outputs": [
    {
     "data": {
      "text/plain": [
       "'kriti'"
      ]
     },
     "execution_count": 13,
     "metadata": {},
     "output_type": "execute_result"
    }
   ],
   "source": [
    "obj_st.name\n"
   ]
  },
  {
   "cell_type": "code",
   "execution_count": 7,
   "id": "b046fd4d",
   "metadata": {},
   "outputs": [
    {
     "data": {
      "text/plain": [
       "20"
      ]
     },
     "execution_count": 7,
     "metadata": {},
     "output_type": "execute_result"
    }
   ],
   "source": [
    "obj_st.age"
   ]
  },
  {
   "cell_type": "code",
   "execution_count": 1,
   "id": "56c4b14d",
   "metadata": {},
   "outputs": [],
   "source": [
    "\n",
    "class Student:\n",
    "    name = \"kriti\"\n",
    "    age = \"20\"\n",
    "\n",
    "    def info(self):  #### info is method and self is parameter\n",
    "        print(\"this is my firat method\")\n",
    "\n",
    "\n",
    "\n",
    "obj_st =Student()  "
   ]
  },
  {
   "cell_type": "code",
   "execution_count": 5,
   "id": "8c1a7e35",
   "metadata": {},
   "outputs": [
    {
     "name": "stdout",
     "output_type": "stream",
     "text": [
      "this is my firat method\n"
     ]
    }
   ],
   "source": [
    "obj_st.info()"
   ]
  },
  {
   "cell_type": "code",
   "execution_count": null,
   "id": "1900071b",
   "metadata": {},
   "outputs": [
    {
     "name": "stdout",
     "output_type": "stream",
     "text": [
      "my name is kriti and my age is 20\n"
     ]
    }
   ],
   "source": [
    "class Student:\n",
    "    name = \"kriti\"\n",
    "    age = \"20\"\n",
    "\n",
    "    def info(self):  #### info is method and self is parameter  ### method \n",
    "        print(f\"my name is {self.name} and my age is {self.age}\")\n",
    "\n",
    "dt_obj =Student()    \n",
    "    #dt_obj.info()\n",
    "dt_obj.name\n",
    "dt_obj.info()\n"
   ]
  },
  {
   "cell_type": "code",
   "execution_count": 19,
   "id": "b839c545",
   "metadata": {},
   "outputs": [],
   "source": [
    "#########INHERITANCE##########\n",
    "#types of inh--- 5"
   ]
  },
  {
   "cell_type": "code",
   "execution_count": 20,
   "id": "cb1f3a5b",
   "metadata": {},
   "outputs": [],
   "source": [
    "class College:\n",
    "    pass\n",
    "\n",
    "class Student:\n",
    "    pass"
   ]
  },
  {
   "cell_type": "code",
   "execution_count": 27,
   "id": "2f4a1371",
   "metadata": {},
   "outputs": [
    {
     "name": "stdout",
     "output_type": "stream",
     "text": [
      "Arya main campus\n",
      "Kukas\n",
      "ritik\n",
      "1234\n"
     ]
    }
   ],
   "source": [
    "###single inheri\n",
    "class Collage:\n",
    "    collage_name = \"Arya main campus\"\n",
    "    Collage_address = \"Kukas\"\n",
    "    \n",
    "\n",
    "    def info(self):\n",
    "        print(self.collage_name)\n",
    "        print(self.collage_address)\n",
    "\n",
    "class Student(Collage):\n",
    "    student_name = \"ritik\"\n",
    "    student_id = \"1234\"\n",
    "\n",
    "st_obj =Student()\n",
    "print(st_obj.collage_name)\n",
    "print(st_obj.Collage_address)\n",
    "print(st_obj.student_name)\n",
    "print(st_obj.student_id)\n",
    "            \n"
   ]
  },
  {
   "cell_type": "code",
   "execution_count": 24,
   "id": "9bc88139",
   "metadata": {},
   "outputs": [
    {
     "name": "stdout",
     "output_type": "stream",
     "text": [
      "ritk\n",
      "1234\n",
      "rohit\n"
     ]
    }
   ],
   "source": [
    "#######multiple hie\n",
    "\n",
    "class Father:\n",
    "   father_name = \"ritk\"\n",
    "   father_id = \"1234\"\n",
    "class Uncle:\n",
    "    uncle_name = \"rohit\"\n",
    "class Child(Father,Uncle):\n",
    "   pass\n",
    "   \n",
    "obj_child = Child()\n",
    "print(obj_child.father_name)\n",
    "print(obj_child.father_id)\n",
    "print(obj_child.uncle_name)\n",
    "       \n",
    "   \n"
   ]
  },
  {
   "cell_type": "code",
   "execution_count": 25,
   "id": "975eb2a7",
   "metadata": {},
   "outputs": [
    {
     "name": "stdout",
     "output_type": "stream",
     "text": [
      "ritk\n",
      "1234\n",
      "rohit\n",
      "135376@gbdjk\n"
     ]
    }
   ],
   "source": [
    "##multi level\n",
    "\n",
    "class GrandFather:\n",
    "    grandfather_name = \"ritk\"\n",
    "    grandfather_id = \"1234\"\n",
    "class Father(GrandFather):\n",
    "    father_name = \"rohit\"\n",
    "    father_id = \"135376@gbdjk\"   \n",
    "\n",
    "class Child(Father):\n",
    "    pass\n",
    "\n",
    "obj_child = Child()\n",
    "print(obj_child.grandfather_name)\n",
    "print(obj_child.grandfather_id)\n",
    "print(obj_child.father_name)\n",
    "print(obj_child.father_id)"
   ]
  },
  {
   "cell_type": "code",
   "execution_count": 26,
   "id": "30220183",
   "metadata": {},
   "outputs": [
    {
     "name": "stdout",
     "output_type": "stream",
     "text": [
      "hello\n"
     ]
    }
   ],
   "source": [
    "##### polymorphism   ----it runs multiple function\n",
    "print(\"hello\")"
   ]
  },
  {
   "cell_type": "code",
   "execution_count": 28,
   "id": "136d0294",
   "metadata": {},
   "outputs": [
    {
     "name": "stdout",
     "output_type": "stream",
     "text": [
      "Largest number is: 58\n"
     ]
    }
   ],
   "source": [
    "###Largest no.\n",
    "\n",
    "while True:\n",
    "    a = int(input(\"Enter first number: \"))\n",
    "    b = int(input(\"Enter second number: \"))\n",
    "\n",
    "    if a > b:\n",
    "        print(\"Largest number is:\", a)\n",
    "    elif b > a:\n",
    "        print(\"Largest number is:\", b)\n",
    "    else:\n",
    "        print(\"Both numbers are equal.\")\n",
    "\n",
    "    break\n",
    "\n"
   ]
  },
  {
   "cell_type": "code",
   "execution_count": 29,
   "id": "28ec5916",
   "metadata": {},
   "outputs": [
    {
     "name": "stdout",
     "output_type": "stream",
     "text": [
      "Even number\n"
     ]
    }
   ],
   "source": [
    "####check even or odd\n",
    "\n",
    "while True:\n",
    "    num = int(input(\"Enter a number: \"))\n",
    "    if num % 2 == 0:\n",
    "        print(\"Even number\")\n",
    "    else:\n",
    "        print(\"Odd number\")\n",
    "    break\n"
   ]
  },
  {
   "cell_type": "code",
   "execution_count": 30,
   "id": "f92d6f9f",
   "metadata": {},
   "outputs": [
    {
     "name": "stdout",
     "output_type": "stream",
     "text": [
      "It is a Leap Year\n"
     ]
    }
   ],
   "source": [
    "##leap year\n",
    "\n",
    "while True:\n",
    "    year = int(input(\"Enter a year: \"))\n",
    "    if(year % 400 == 0):\n",
    "        print(\"It is a Leap Year\")\n",
    "    else:\n",
    "        print(\"Not a Leap Year\")\n",
    "    break\n"
   ]
  },
  {
   "cell_type": "code",
   "execution_count": 31,
   "id": "2e45239e",
   "metadata": {},
   "outputs": [
    {
     "name": "stdout",
     "output_type": "stream",
     "text": [
      "Grade D\n"
     ]
    }
   ],
   "source": [
    "####grading system\n",
    "\n",
    "while True:\n",
    "    marks = int(input(\"Enter your marks: \"))\n",
    "\n",
    "    if marks >= 90:\n",
    "        print(\"Grade A\")\n",
    "    elif marks >= 75:\n",
    "        print(\"Grade B\")\n",
    "    elif marks >= 60:\n",
    "        print(\"Grade C\")\n",
    "    else:\n",
    "        print(\"Grade D\")\n",
    "    break\n"
   ]
  },
  {
   "cell_type": "code",
   "execution_count": 32,
   "id": "2f787135",
   "metadata": {},
   "outputs": [
    {
     "name": "stdout",
     "output_type": "stream",
     "text": [
      "Largest number is: 25\n"
     ]
    }
   ],
   "source": [
    "##largest three no.\n",
    "\n",
    "while True:\n",
    "    x = int(input(\"Enter first number: \"))\n",
    "    y = int(input(\"Enter second number: \"))\n",
    "    z = int(input(\"Enter third number: \"))\n",
    "\n",
    "    if x >= y and x >= z:\n",
    "        print(\"Largest number is:\", x)\n",
    "    elif y >= x and y >= z:\n",
    "        print(\"Largest number is:\", y)\n",
    "    else:\n",
    "        print(\"Largest number is:\", z)\n",
    "    break\n"
   ]
  },
  {
   "cell_type": "code",
   "execution_count": 34,
   "id": "6b53e00d",
   "metadata": {},
   "outputs": [
    {
     "name": "stdout",
     "output_type": "stream",
     "text": [
      "Invalid color! Please enter red, yellow, or green.\n"
     ]
    }
   ],
   "source": [
    "##traffic signals\n",
    "\n",
    "while True:\n",
    "    signal = str(input(\"enter the signal RED,YELLOW,GREEN\"))\n",
    "\n",
    "    if signal == \"red\":\n",
    "        print(\"Stop\")\n",
    "    elif signal == \"yellow\":\n",
    "        print(\"Wait\")\n",
    "    elif signal == \"green\":\n",
    "        print(\"Go\")\n",
    "    else:\n",
    "        print(\"Invalid color! Please enter red, yellow, or green.\")\n",
    "    \n",
    "    break  # remove this if you want it to repeat continuously\n"
   ]
  },
  {
   "cell_type": "code",
   "execution_count": 9,
   "id": "affa5832",
   "metadata": {},
   "outputs": [],
   "source": [
    "####encapsulation\n",
    "##access specifier is used\n",
    "\n",
    "class Student:\n",
    "    __name = \"ritk\"   ###private\n",
    "    age = 20   ##public\n",
    "    _id = \"1234\"  ##protected varaible\n",
    "st_obj =Student()"
   ]
  },
  {
   "cell_type": "code",
   "execution_count": 10,
   "id": "8d578f2a",
   "metadata": {},
   "outputs": [
    {
     "data": {
      "text/plain": [
       "20"
      ]
     },
     "execution_count": 10,
     "metadata": {},
     "output_type": "execute_result"
    }
   ],
   "source": [
    "st_obj.age\n"
   ]
  },
  {
   "cell_type": "code",
   "execution_count": 12,
   "id": "a8c3779b",
   "metadata": {},
   "outputs": [
    {
     "data": {
      "text/plain": [
       "'ritk'"
      ]
     },
     "execution_count": 12,
     "metadata": {},
     "output_type": "execute_result"
    }
   ],
   "source": [
    "st_obj._Student__name   ### acces private variable"
   ]
  },
  {
   "cell_type": "code",
   "execution_count": 13,
   "id": "5bc9e5d6",
   "metadata": {},
   "outputs": [
    {
     "data": {
      "text/plain": [
       "'1234'"
      ]
     },
     "execution_count": 13,
     "metadata": {},
     "output_type": "execute_result"
    }
   ],
   "source": [
    "st_obj._id"
   ]
  },
  {
   "cell_type": "code",
   "execution_count": null,
   "id": "ed950726",
   "metadata": {},
   "outputs": [],
   "source": [
    "###TASK\n",
    "\n",
    "\n",
    "# bank \n",
    "# ac no private\n",
    "# Name\n",
    "# addres\n",
    "# phone no\n",
    "# def method\n",
    "# total balance\n",
    "\n",
    "\n",
    "####class\n",
    "###method\n",
    "###Inheritance\n",
    "\n",
    "####super function\n",
    "#####BMI calculator project using class\n",
    "        \n"
   ]
  },
  {
   "cell_type": "code",
   "execution_count": 27,
   "id": "d8a07765",
   "metadata": {},
   "outputs": [],
   "source": [
    "class Bank:\n",
    "    __Accountno = 1234567890\n",
    "    name = \"Kriti\"\n",
    "    Address = \"jaipur\"\n",
    "    Phone_no = 123456\n",
    "    bank_balance = 165000\n",
    "    def info(self):\n",
    "        print(self.bank_balance)\n",
    "obj_ba = Bank()   \n"
   ]
  },
  {
   "cell_type": "code",
   "execution_count": 28,
   "id": "37b2b6e2",
   "metadata": {},
   "outputs": [
    {
     "name": "stdout",
     "output_type": "stream",
     "text": [
      "165000\n"
     ]
    }
   ],
   "source": [
    "obj_ba.info()"
   ]
  },
  {
   "cell_type": "code",
   "execution_count": 29,
   "id": "1e3039fd",
   "metadata": {},
   "outputs": [
    {
     "data": {
      "text/plain": [
       "165000"
      ]
     },
     "execution_count": 29,
     "metadata": {},
     "output_type": "execute_result"
    }
   ],
   "source": [
    "obj_ba.bank_balance"
   ]
  },
  {
   "cell_type": "code",
   "execution_count": 31,
   "id": "0d7464f8",
   "metadata": {},
   "outputs": [],
   "source": [
    "#####constructor\n",
    "##init method\n",
    "##__init__\n",
    "\n",
    "class Student:\n",
    "    def __init__(self):\n",
    "        pass"
   ]
  },
  {
   "cell_type": "code",
   "execution_count": null,
   "id": "5eb850d4",
   "metadata": {},
   "outputs": [
    {
     "name": "stdout",
     "output_type": "stream",
     "text": [
      "ritk\n"
     ]
    }
   ],
   "source": [
    "class Student:\n",
    "    def __init__(self , name , age):\n",
    "        self.name = name \n",
    "        self.age = age ###instance variable\n",
    "\n",
    "obj_st =Student(name = \"ritk\" , age=22) \n",
    "\n",
    "print(obj_st.name)"
   ]
  },
  {
   "cell_type": "code",
   "execution_count": 33,
   "id": "8172b706",
   "metadata": {},
   "outputs": [
    {
     "data": {
      "text/plain": [
       "22"
      ]
     },
     "execution_count": 33,
     "metadata": {},
     "output_type": "execute_result"
    }
   ],
   "source": [
    "obj_st.age"
   ]
  },
  {
   "cell_type": "code",
   "execution_count": 35,
   "id": "d8ff558b",
   "metadata": {},
   "outputs": [],
   "source": [
    "class Student:\n",
    "    def __init__(self , name , age , address):\n",
    "        self.name = name\n",
    "        self.age = age\n",
    "        self.address = address\n",
    "\n",
    "    def display(self):\n",
    "        print(f\"my name is {self.name} and my age is {self.age} and my addess is {self.address}\")\n",
    "\n",
    "obj_st=Student(name=\"ritij\",age=22,address=\"kukas\")"
   ]
  },
  {
   "cell_type": "code",
   "execution_count": 36,
   "id": "977da20a",
   "metadata": {},
   "outputs": [
    {
     "name": "stdout",
     "output_type": "stream",
     "text": [
      "my name is ritij and my age is 22 and my addess is kukas\n"
     ]
    }
   ],
   "source": [
    "obj_st.display()"
   ]
  },
  {
   "cell_type": "code",
   "execution_count": 55,
   "id": "09783331",
   "metadata": {},
   "outputs": [],
   "source": [
    "# class bank :\n",
    "#     used conmstructor\n",
    "#     ac no.private\n",
    "#     3 method deposit,withdrwal,total balance\n",
    "\n",
    "\n",
    "class Bank:\n",
    "    def __init__(self , name , age ,Account_number , phone_number , address , amount):\n",
    "        self.name = name\n",
    "        self.age = age\n",
    "        self.__Account_number = Account_number\n",
    "        self.phone_number = phone_number\n",
    "        self.address = address\n",
    "        self.amount = amount \n",
    "\n",
    "\n",
    "    def deposit(self , amount):\n",
    "        self.amount = self.amount + amount\n",
    "        return self.amount\n",
    "    \n",
    "    def withdraw(self , amount):\n",
    "        self.amount = self.amount - amount\n",
    "        return self.amount\n",
    "    def total_balance(self):\n",
    "        return self.amount\n",
    "    def info(self):\n",
    "        print(\"your name\" , self.name)\n",
    "bn_obj =Bank(name=\"ritij\",age=22,  Account_number = 27575637487 ,  phone_number = 87487438 ,address=\"kukas\" , amount = 600000008)        "
   ]
  },
  {
   "cell_type": "code",
   "execution_count": 56,
   "id": "151eaa53",
   "metadata": {},
   "outputs": [
    {
     "data": {
      "text/plain": [
       "'kukas'"
      ]
     },
     "execution_count": 56,
     "metadata": {},
     "output_type": "execute_result"
    }
   ],
   "source": [
    "bn_obj.address"
   ]
  },
  {
   "cell_type": "code",
   "execution_count": 57,
   "id": "ed3f71e5",
   "metadata": {},
   "outputs": [
    {
     "name": "stdout",
     "output_type": "stream",
     "text": [
      "your name ritij\n"
     ]
    }
   ],
   "source": [
    "bn_obj.info()"
   ]
  },
  {
   "cell_type": "code",
   "execution_count": 58,
   "id": "af033990",
   "metadata": {},
   "outputs": [
    {
     "data": {
      "text/plain": [
       "600000008"
      ]
     },
     "execution_count": 58,
     "metadata": {},
     "output_type": "execute_result"
    }
   ],
   "source": [
    "bn_obj.total_balance()"
   ]
  },
  {
   "cell_type": "code",
   "execution_count": 59,
   "id": "bb9e6258",
   "metadata": {},
   "outputs": [
    {
     "data": {
      "text/plain": [
       "600565864"
      ]
     },
     "execution_count": 59,
     "metadata": {},
     "output_type": "execute_result"
    }
   ],
   "source": [
    "bn_obj.deposit(565856)"
   ]
  },
  {
   "cell_type": "code",
   "execution_count": 61,
   "id": "57d69240",
   "metadata": {},
   "outputs": [
    {
     "data": {
      "text/plain": [
       "600515864"
      ]
     },
     "execution_count": 61,
     "metadata": {},
     "output_type": "execute_result"
    }
   ],
   "source": [
    "bn_obj.withdraw(50000)"
   ]
  },
  {
   "cell_type": "markdown",
   "id": "0e2fd43b",
   "metadata": {},
   "source": [
    "## BMI Calculator\n",
    "\n"
   ]
  },
  {
   "cell_type": "code",
   "execution_count": 2,
   "id": "287d967f",
   "metadata": {},
   "outputs": [
    {
     "name": "stdout",
     "output_type": "stream",
     "text": [
      "Converted height in meters: 1.5544799999999999 m\n",
      "Your BMI is: 38.073039536228166\n",
      "You are underweight.\n"
     ]
    }
   ],
   "source": [
    "\n",
    "class BMICalculator:\n",
    "    def __init__(self):\n",
    "        self.height = 0\n",
    "        self.weight = 0\n",
    "        self.bmi = 0\n",
    "\n",
    "    def get_height(self):\n",
    "        unit = input(\"Enter height unit (meters/feet): \")\n",
    "        if unit == \"meters\":\n",
    "            self.height = float(input(\"Enter your height in meters: \"))\n",
    "        elif unit == \"feet\":\n",
    "            feet = float(input(\"Enter your height in feet: \"))\n",
    "            self.height = feet * 0.3048\n",
    "            print(f\"Converted height in meters: {self.height} m\")\n",
    "\n",
    "        else:\n",
    "            print(\"Invalid unit. Please enter 'meters' or 'feet'.\")\n",
    "            self.get_height()    \n",
    "\n",
    "    def get_weight(self):\n",
    "        \n",
    "        self.weight = float(input(\"Enter your weight in kilograms: \"))\n",
    "\n",
    "    def calculate_bmi(self):\n",
    "        bmi = self.weight / (self.height ** 2)\n",
    "        print(\"Your BMI is:\", bmi)\n",
    "\n",
    "    \n",
    "    \n",
    "    def BMI_checker(self):\n",
    "        bmi = self.bmi\n",
    "        if bmi < 18.5:\n",
    "            print(\"You are underweight.\")\n",
    "        elif bmi < 25:\n",
    "            print(\"You have a normal weight.\")\n",
    "        elif bmi < 30:\n",
    "            print(\"You are overweight.\")\n",
    "        else:\n",
    "            print(\"You are obese.\")\n",
    "\n",
    "\n",
    "BMI_obj = BMICalculator()\n",
    "BMI_obj.get_height()\n",
    "BMI_obj.get_weight()\n",
    "BMI_obj.calculate_bmi()\n",
    "BMI_obj.BMI_checker()\n"
   ]
  },
  {
   "cell_type": "code",
   "execution_count": null,
   "id": "bee92817",
   "metadata": {},
   "outputs": [],
   "source": [
    "print(\"kriti\")"
   ]
  },
  {
   "cell_type": "code",
   "execution_count": null,
   "id": "a2ebb2b3",
   "metadata": {},
   "outputs": [],
   "source": []
  }
 ],
 "metadata": {
  "kernelspec": {
   "display_name": "Python 3",
   "language": "python",
   "name": "python3"
  },
  "language_info": {
   "codemirror_mode": {
    "name": "ipython",
    "version": 3
   },
   "file_extension": ".py",
   "mimetype": "text/x-python",
   "name": "python",
   "nbconvert_exporter": "python",
   "pygments_lexer": "ipython3",
   "version": "3.11.5"
  }
 },
 "nbformat": 4,
 "nbformat_minor": 5
}
