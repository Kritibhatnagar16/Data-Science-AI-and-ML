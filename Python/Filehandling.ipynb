{
 "cells": [
  {
   "cell_type": "markdown",
   "id": "891cab0c",
   "metadata": {},
   "source": [
    "\n",
    "\n",
    "### *File handling* \n",
    "\n",
    "| Mode   | Description                                                  |\n",
    "| ------ | ------------------------------------------------------------ |\n",
    "| \"r\"  | Read mode (default), error if file doesn't exist             |\n",
    "| \"w\"  | Write mode, creates a file if not exist, overwrites existing |\n",
    "| \"a\"  | Append mode, adds content to end of file                     |\n",
    "| \"x\"  | Create mode, error if file already exists                    |\n",
    "                                         |"
   ]
  },
  {
   "cell_type": "code",
   "execution_count": null,
   "id": "22af011f",
   "metadata": {},
   "outputs": [],
   "source": [
    "file= open('demo.txt' , 'r')   ## r for read and demo.txt isa file name\n",
    "file.read()           ##read the file\n",
    "file.close()          ##close the file"
   ]
  },
  {
   "cell_type": "code",
   "execution_count": 5,
   "id": "6b1bcd8a",
   "metadata": {},
   "outputs": [],
   "source": [
    "file= open('demo.txt' , 'r')\n",
    "file.readline() ##it will read the first line\n",
    "file.close()"
   ]
  },
  {
   "cell_type": "code",
   "execution_count": 13,
   "id": "94b6e29c",
   "metadata": {},
   "outputs": [],
   "source": [
    "file= open('demo.txt' , 'r')    ##it will append the file\n",
    "file.readlines()  # it will read all the lines\n",
    "file.close()"
   ]
  },
  {
   "cell_type": "code",
   "execution_count": 10,
   "id": "d2fdd20d",
   "metadata": {},
   "outputs": [],
   "source": [
    "file= open('demo.txt' , 'w') \n",
    "##file.read()\n",
    "file.write(\"hello lol\")\n",
    "file.close()\n",
    "\n"
   ]
  },
  {
   "cell_type": "code",
   "execution_count": 17,
   "id": "28b4bac7",
   "metadata": {},
   "outputs": [],
   "source": [
    " ##append mode    -file milti hai toh add hojata h ..agr ni milti toh create krdeta h\n",
    "file= open('demo.txt' , 'a')\n",
    "file.write(\"hello y\")\n",
    "file.close()\n",
    "\n",
    "\n"
   ]
  },
  {
   "cell_type": "code",
   "execution_count": 15,
   "id": "8819e6b1",
   "metadata": {},
   "outputs": [],
   "source": [
    "file= open('demo.txt' , 'a')\n",
    "file.close()"
   ]
  },
  {
   "cell_type": "code",
   "execution_count": 19,
   "id": "a44be1c1",
   "metadata": {},
   "outputs": [],
   "source": [
    "file= open('text.txt' , 'a')\n",
    "file.write(\"heyyyyyyy\")   ## file milti hai toh add hojata h ..agr ni milti toh create krdeta h\n",
    "file.close()\n"
   ]
  },
  {
   "cell_type": "code",
   "execution_count": 21,
   "id": "d7ed59c9",
   "metadata": {},
   "outputs": [
    {
     "data": {
      "text/plain": [
       "'heyyyyyyyheyyyyyyyheyyyyyyy'"
      ]
     },
     "execution_count": 21,
     "metadata": {},
     "output_type": "execute_result"
    }
   ],
   "source": [
    "open('text.txt' , 'r').read()\n",
    "\n",
    "##task -  ek line ko break krna h like using endl kinda"
   ]
  },
  {
   "cell_type": "code",
   "execution_count": null,
   "id": "5edad8e3",
   "metadata": {},
   "outputs": [],
   "source": [
    "##create mode\n",
    "\n",
    "file = open(\"upflairs.txt\" , 'x')\n",
    "file.write(\"hello kesa lga\")\n",
    "file.close()"
   ]
  },
  {
   "cell_type": "code",
   "execution_count": 31,
   "id": "55daf027",
   "metadata": {},
   "outputs": [],
   "source": [
    "file= open('text.txt' , 'a')\n",
    "file.write(\"heyyyyyyy,hii ky haal chaaal jindati mast ky \\n kdhydkedhuegdk \")\n",
    "file.close()\n"
   ]
  },
  {
   "cell_type": "code",
   "execution_count": null,
   "id": "b50ab55f",
   "metadata": {},
   "outputs": [],
   "source": []
  }
 ],
 "metadata": {
  "kernelspec": {
   "display_name": "Python 3",
   "language": "python",
   "name": "python3"
  },
  "language_info": {
   "codemirror_mode": {
    "name": "ipython",
    "version": 3
   },
   "file_extension": ".py",
   "mimetype": "text/x-python",
   "name": "python",
   "nbconvert_exporter": "python",
   "pygments_lexer": "ipython3",
   "version": "3.11.5"
  }
 },
 "nbformat": 4,
 "nbformat_minor": 5
}
