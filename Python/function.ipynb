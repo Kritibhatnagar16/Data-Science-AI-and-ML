{
 "cells": [
  {
   "cell_type": "code",
   "execution_count": null,
   "id": "d3ee246e",
   "metadata": {},
   "outputs": [],
   "source": [
    "def function_name():\n",
    "    pass\n",
    "\n",
    "# function_name>>>>>>>>>>>>>>>>>>...function Name\n",
    "# def is keyword\n",
    "# pass >>>> plaeholder\n"
   ]
  },
  {
   "cell_type": "code",
   "execution_count": null,
   "id": "46733230",
   "metadata": {},
   "outputs": [],
   "source": [
    "def function_name():\n",
    "    pass\n",
    "function_name()   ##>>>>>calling function"
   ]
  },
  {
   "cell_type": "code",
   "execution_count": 5,
   "id": "f60ff73c",
   "metadata": {},
   "outputs": [
    {
     "name": "stdout",
     "output_type": "stream",
     "text": [
      "hello\n"
     ]
    }
   ],
   "source": [
    "def display():\n",
    "    print(\"hello\")\n",
    "display()"
   ]
  },
  {
   "cell_type": "code",
   "execution_count": 6,
   "id": "8e265714",
   "metadata": {},
   "outputs": [
    {
     "name": "stdout",
     "output_type": "stream",
     "text": [
      "hello\n"
     ]
    }
   ],
   "source": [
    "display()"
   ]
  },
  {
   "cell_type": "code",
   "execution_count": 1,
   "id": "ab9817e8",
   "metadata": {},
   "outputs": [],
   "source": [
    "def add():\n",
    "    a = 10\n",
    "    b = 20\n",
    "    print(a+b)\n",
    "    add()"
   ]
  },
  {
   "cell_type": "code",
   "execution_count": 2,
   "id": "dbf54949",
   "metadata": {},
   "outputs": [],
   "source": [
    "def add(a,b):\n",
    "    print(a+b)\n",
    "    add(10,20)"
   ]
  },
  {
   "cell_type": "code",
   "execution_count": 3,
   "id": "19afd5a7",
   "metadata": {},
   "outputs": [],
   "source": [
    "def display(name,age,address=\"jaipur\"):   ####default\n",
    "    print(f\"my name is {name} and \")\n",
    "    pass\n",
    "  "
   ]
  },
  {
   "cell_type": "code",
   "execution_count": null,
   "id": "6799fb0f",
   "metadata": {},
   "outputs": [],
   "source": [
    "######functiom type========= \n",
    "#user define\n",
    "#predefine funt  >>>>>>>>>>print,len,map,range,min,max,sum\n",
    "\n",
    "#lamba function\n",
    "#lambda >>>>>>keyword\n",
    "#####lambda iws anonymous funt\n",
    "# it is used for single line function\n",
    "#                 short functiom\n",
    "#                 one line function"
   ]
  },
  {
   "cell_type": "code",
   "execution_count": 4,
   "id": "6ca1ce15",
   "metadata": {},
   "outputs": [
    {
     "data": {
      "text/plain": [
       "30"
      ]
     },
     "execution_count": 4,
     "metadata": {},
     "output_type": "execute_result"
    }
   ],
   "source": [
    "add =lambda a , b : a+b\n",
    "add(10,20)\n"
   ]
  },
  {
   "cell_type": "code",
   "execution_count": 14,
   "id": "6f8be020",
   "metadata": {},
   "outputs": [
    {
     "data": {
      "text/plain": [
       "100"
      ]
     },
     "execution_count": 14,
     "metadata": {},
     "output_type": "execute_result"
    }
   ],
   "source": [
    "square =lambda a : a**2\n",
    "square(10)"
   ]
  },
  {
   "cell_type": "code",
   "execution_count": null,
   "id": "d11686d6",
   "metadata": {},
   "outputs": [],
   "source": []
  }
 ],
 "metadata": {
  "kernelspec": {
   "display_name": "Python 3",
   "language": "python",
   "name": "python3"
  },
  "language_info": {
   "codemirror_mode": {
    "name": "ipython",
    "version": 3
   },
   "file_extension": ".py",
   "mimetype": "text/x-python",
   "name": "python",
   "nbconvert_exporter": "python",
   "pygments_lexer": "ipython3",
   "version": "3.11.5"
  }
 },
 "nbformat": 4,
 "nbformat_minor": 5
}
