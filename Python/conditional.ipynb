{
 "cells": [
  {
   "cell_type": "code",
   "execution_count": 1,
   "id": "2a954e2e",
   "metadata": {},
   "outputs": [
    {
     "data": {
      "text/plain": [
       "10"
      ]
     },
     "execution_count": 1,
     "metadata": {},
     "output_type": "execute_result"
    }
   ],
   "source": [
    "a = 10\n",
    "a\n",
    "\n",
    "\n",
    "\n",
    "\n"
   ]
  },
  {
   "cell_type": "code",
   "execution_count": 2,
   "id": "70398f96",
   "metadata": {},
   "outputs": [],
   "source": [
    "### conditional statement\n",
    "\n",
    "# to rotate word - single star\n",
    "# to highlight - dbl *\n",
    "\n",
    "# x = 0\n",
    "# if x<10:\n",
    "# print(\"x is smaller\")\n",
    "\n",
    "\n"
   ]
  },
  {
   "cell_type": "code",
   "execution_count": 3,
   "id": "b628b698",
   "metadata": {},
   "outputs": [
    {
     "name": "stdout",
     "output_type": "stream",
     "text": [
      "x is 20\n"
     ]
    }
   ],
   "source": [
    "x = 20\n",
    "if x<10:\n",
    "    print(\"x is smaller\")\n",
    "\n",
    "elif (x == 20):\n",
    "    print(\"x is 20\")\n",
    "else:\n",
    "    print( \"x is greater than 10\")\n",
    "\n",
    "\n",
    "\n"
   ]
  },
  {
   "cell_type": "code",
   "execution_count": 1,
   "id": "d8f59380",
   "metadata": {},
   "outputs": [
    {
     "ename": "ValueError",
     "evalue": "invalid literal for int() with base 10: ''",
     "output_type": "error",
     "traceback": [
      "\u001b[31m---------------------------------------------------------------------------\u001b[39m",
      "\u001b[31mValueError\u001b[39m                                Traceback (most recent call last)",
      "\u001b[36mCell\u001b[39m\u001b[36m \u001b[39m\u001b[32mIn[1]\u001b[39m\u001b[32m, line 3\u001b[39m\n\u001b[32m      1\u001b[39m \u001b[38;5;66;03m##### GREATEST NO.BETWEEN TWO\u001b[39;00m\n\u001b[32m----> \u001b[39m\u001b[32m3\u001b[39m num1 = \u001b[38;5;28;43mint\u001b[39;49m\u001b[43m(\u001b[49m\u001b[38;5;28;43minput\u001b[39;49m\u001b[43m(\u001b[49m\u001b[33;43m\"\u001b[39;49m\u001b[33;43menter the num1:\u001b[39;49m\u001b[33;43m\"\u001b[39;49m\u001b[43m)\u001b[49m\u001b[43m)\u001b[49m\n\u001b[32m      4\u001b[39m num2 = \u001b[38;5;28mint\u001b[39m(\u001b[38;5;28minput\u001b[39m(\u001b[33m\"\u001b[39m\u001b[33menter the num2:\u001b[39m\u001b[33m\"\u001b[39m))\n\u001b[32m      5\u001b[39m \u001b[38;5;28;01mif\u001b[39;00m(num1>num2):\n",
      "\u001b[31mValueError\u001b[39m: invalid literal for int() with base 10: ''"
     ]
    }
   ],
   "source": [
    "##### GREATEST NO.BETWEEN TWO\n",
    "\n",
    "num1 = int(input(\"enter the num1:\"))\n",
    "num2 = int(input(\"enter the num2:\"))\n",
    "if(num1>num2):\n",
    " print(\"num1 is greater\" , num1)\n",
    "else:\n",
    " print(\"num 2 is greater\")"
   ]
  },
  {
   "cell_type": "code",
   "execution_count": null,
   "id": "0c91bf73",
   "metadata": {},
   "outputs": [
    {
     "ename": "ValueError",
     "evalue": "invalid literal for int() with base 10: '0-'",
     "output_type": "error",
     "traceback": [
      "\u001b[31m---------------------------------------------------------------------------\u001b[39m",
      "\u001b[31mValueError\u001b[39m                                Traceback (most recent call last)",
      "\u001b[36mCell\u001b[39m\u001b[36m \u001b[39m\u001b[32mIn[5]\u001b[39m\u001b[32m, line 3\u001b[39m\n\u001b[32m      1\u001b[39m \u001b[38;5;66;03m###ENTER EVEN ODD\u001b[39;00m\n\u001b[32m----> \u001b[39m\u001b[32m3\u001b[39m num = \u001b[38;5;28;43mint\u001b[39;49m\u001b[43m(\u001b[49m\u001b[38;5;28;43minput\u001b[39;49m\u001b[43m(\u001b[49m\u001b[33;43m\"\u001b[39;49m\u001b[33;43menter the number to check even odd:\u001b[39;49m\u001b[33;43m\"\u001b[39;49m\u001b[43m)\u001b[49m\u001b[43m)\u001b[49m\n\u001b[32m      4\u001b[39m \u001b[38;5;28;01mif\u001b[39;00m(num%\u001b[32m2\u001b[39m==\u001b[32m0\u001b[39m):\n\u001b[32m      5\u001b[39m  \u001b[38;5;28mprint\u001b[39m(\u001b[33m\"\u001b[39m\u001b[33mit is even no.\u001b[39m\u001b[33m\"\u001b[39m)\n",
      "\u001b[31mValueError\u001b[39m: invalid literal for int() with base 10: '0-'"
     ]
    }
   ],
   "source": [
    "###ENTER EVEN ODD\n",
    "\n",
    "num = int(input(\"enter the number to check even odd:\"))\n",
    "if(num%2==0):\n",
    " print(\"it is even no.\")\n",
    "else:\n",
    " print(\"it is odd num.\")"
   ]
  },
  {
   "cell_type": "code",
   "execution_count": null,
   "id": "690caab7",
   "metadata": {},
   "outputs": [],
   "source": [
    "###CHECK LEAP YEAR\n",
    "\n",
    "year = int(input(\"enter the year:\"))\n",
    "if(year % 400 == 0):\n",
    "    print(\"this is leap year\")\n",
    "else: \n",
    "    print(\"this is not leap year\")\n"
   ]
  },
  {
   "cell_type": "code",
   "execution_count": 3,
   "id": "be525bb9",
   "metadata": {},
   "outputs": [
    {
     "name": "stdout",
     "output_type": "stream",
     "text": [
      "GRADE A\n"
     ]
    }
   ],
   "source": [
    "###CHECK GRADING\n",
    "\n",
    "marks = int(input(\"enter grade between 0-100\"))\n",
    "if (marks>=90):\n",
    "    print(\"GRADE A\")\n",
    "elif(marks>=75):\n",
    "    print(\"GRADE B\")\n",
    "elif(marks>=60):\n",
    "    print(\"GRADE C\")  \n",
    "else:\n",
    "    print(\"GRADE D\")      \n"
   ]
  },
  {
   "cell_type": "code",
   "execution_count": 4,
   "id": "a79f50eb",
   "metadata": {},
   "outputs": [
    {
     "name": "stdout",
     "output_type": "stream",
     "text": [
      "STOP\n"
     ]
    }
   ],
   "source": [
    "###CHECK SIGNAL\n",
    "\n",
    "signal = str(input(\"enter the signal RED,YELLOW,GREEN\"))\n",
    "if(signal == \"RED\"):\n",
    " print(\"STOP\")\n",
    "elif(signal == \"YELLOW\"):\n",
    " print(\"WAIT\")\n",
    "elif(signal == \"GREEN\"):\n",
    " print(\"GO\")\n",
    "else:\n",
    " print(\"INVALID\")\n"
   ]
  },
  {
   "cell_type": "code",
   "execution_count": 7,
   "id": "46fcdd8e",
   "metadata": {},
   "outputs": [
    {
     "ename": "ValueError",
     "evalue": "invalid literal for int() with base 10: ''",
     "output_type": "error",
     "traceback": [
      "\u001b[31m---------------------------------------------------------------------------\u001b[39m",
      "\u001b[31mValueError\u001b[39m                                Traceback (most recent call last)",
      "\u001b[36mCell\u001b[39m\u001b[36m \u001b[39m\u001b[32mIn[7]\u001b[39m\u001b[32m, line 4\u001b[39m\n\u001b[32m      1\u001b[39m \u001b[38;5;66;03m###GREATER NO.B/W 3\u001b[39;00m\n\u001b[32m----> \u001b[39m\u001b[32m4\u001b[39m a = \u001b[38;5;28;43mint\u001b[39;49m\u001b[43m(\u001b[49m\u001b[38;5;28;43minput\u001b[39;49m\u001b[43m(\u001b[49m\u001b[33;43m\"\u001b[39;49m\u001b[33;43menter the a:\u001b[39;49m\u001b[33;43m\"\u001b[39;49m\u001b[43m)\u001b[49m\u001b[43m)\u001b[49m\n\u001b[32m      5\u001b[39m b = \u001b[38;5;28mint\u001b[39m(\u001b[38;5;28minput\u001b[39m(\u001b[33m\"\u001b[39m\u001b[33menter the b:\u001b[39m\u001b[33m\"\u001b[39m))\n\u001b[32m      6\u001b[39m c = \u001b[38;5;28mint\u001b[39m(\u001b[38;5;28minput\u001b[39m(\u001b[33m\"\u001b[39m\u001b[33menter the c:\u001b[39m\u001b[33m\"\u001b[39m))\n",
      "\u001b[31mValueError\u001b[39m: invalid literal for int() with base 10: ''"
     ]
    }
   ],
   "source": [
    "###GREATER NO.B/W 3\n",
    "\n",
    "\n",
    "a = int(input(\"enter the a:\"))\n",
    "b = int(input(\"enter the b:\"))\n",
    "c = int(input(\"enter the c:\"))\n",
    "if(a >= b and a >= c):\n",
    " print(\"a is greater\" , num1)\n",
    "elif(a >= b and a >= c):\n",
    " print(\"b is greater\")\n",
    "else:\n",
    " print(\"c is greater\") "
   ]
  },
  {
   "cell_type": "code",
   "execution_count": 2,
   "id": "a034e151",
   "metadata": {},
   "outputs": [
    {
     "name": "stdout",
     "output_type": "stream",
     "text": [
      "Weird\n"
     ]
    }
   ],
   "source": [
    "import math\n",
    "import os\n",
    "import random\n",
    "import re\n",
    "import sys\n",
    "\n",
    "num = int(input(\"Enter the number: \"))\n",
    "\n",
    "if num % 2 != 0:\n",
    "    print(\"Weird\")\n",
    "else:\n",
    "    if 2 <= num <= 5:\n",
    "        print(\"Not Weird\")\n",
    "    elif 6 <= num <= 20:\n",
    "        print(\"Weird\")\n",
    "    elif num > 20:\n",
    "        print(\"Not Weird\")\n",
    "    else:\n",
    "        print(\"Invalid\")\n",
    "\n",
    "\n"
   ]
  },
  {
   "cell_type": "code",
   "execution_count": 14,
   "id": "7e60f302",
   "metadata": {},
   "outputs": [
    {
     "ename": "ValueError",
     "evalue": "invalid literal for int() with base 10: ''",
     "output_type": "error",
     "traceback": [
      "\u001b[31m---------------------------------------------------------------------------\u001b[39m",
      "\u001b[31mValueError\u001b[39m                                Traceback (most recent call last)",
      "\u001b[36mCell\u001b[39m\u001b[36m \u001b[39m\u001b[32mIn[14]\u001b[39m\u001b[32m, line 1\u001b[39m\n\u001b[32m----> \u001b[39m\u001b[32m1\u001b[39m a = \u001b[38;5;28;43mint\u001b[39;49m\u001b[43m(\u001b[49m\u001b[38;5;28;43minput\u001b[39;49m\u001b[43m(\u001b[49m\u001b[43m)\u001b[49m\u001b[43m)\u001b[49m\n\u001b[32m      2\u001b[39m b = \u001b[38;5;28mint\u001b[39m(\u001b[38;5;28minput\u001b[39m())\n\u001b[32m      3\u001b[39m \u001b[38;5;28mprint\u001b[39m(a+b)\n",
      "\u001b[31mValueError\u001b[39m: invalid literal for int() with base 10: ''"
     ]
    }
   ],
   "source": [
    "a = int(input())\n",
    "b = int(input())\n",
    "print(a+b)\n",
    "print(a-b)\n",
    "print(a*b)"
   ]
  },
  {
   "cell_type": "code",
   "execution_count": 15,
   "id": "7b9737e2",
   "metadata": {},
   "outputs": [
    {
     "name": "stdout",
     "output_type": "stream",
     "text": [
      "50\n",
      "0\n",
      "625\n"
     ]
    }
   ],
   "source": [
    "a = int(input())\n",
    "b = int(input())\n",
    "print(a+b)\n",
    "print(a-b)\n",
    "print(a*b)"
   ]
  },
  {
   "cell_type": "code",
   "execution_count": null,
   "id": "e69e3763",
   "metadata": {},
   "outputs": [],
   "source": []
  }
 ],
 "metadata": {
  "kernelspec": {
   "display_name": "Python 3",
   "language": "python",
   "name": "python3"
  },
  "language_info": {
   "codemirror_mode": {
    "name": "ipython",
    "version": 3
   },
   "file_extension": ".py",
   "mimetype": "text/x-python",
   "name": "python",
   "nbconvert_exporter": "python",
   "pygments_lexer": "ipython3",
   "version": "3.11.5"
  }
 },
 "nbformat": 4,
 "nbformat_minor": 5
}
