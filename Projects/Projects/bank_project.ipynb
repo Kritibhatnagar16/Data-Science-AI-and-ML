{
 "cells": [
  {
   "cell_type": "markdown",
   "id": "a5a8264d",
   "metadata": {},
   "source": [
    "## BANK"
   ]
  },
  {
   "cell_type": "code",
   "execution_count": 1,
   "id": "a5458936",
   "metadata": {},
   "outputs": [],
   "source": [
    "class Bank:\n",
    "    def __init__(self , name , age ,Account_number , phone_number , address , amount):\n",
    "        self.name = name\n",
    "        self.age = age\n",
    "        self.__Account_number = Account_number\n",
    "        self.phone_number = phone_number\n",
    "        self.address = address\n",
    "        self.amount = amount \n",
    "\n",
    "\n",
    "    def deposit(self , amount):\n",
    "        self.amount = self.amount + amount\n",
    "        return self.amount\n",
    "    \n",
    "    def withdraw(self , amount):\n",
    "        self.amount = self.amount - amount\n",
    "        return self.amount\n",
    "    def total_balance(self):\n",
    "        return self.amount\n",
    "    def info(self):\n",
    "        print(\"your name\" , self.name)\n",
    "bn_obj =Bank(name=\"ritij\",age=22,  Account_number = 27575637487 ,  phone_number = 87487438 ,address=\"kukas\" , amount = 600000008)        "
   ]
  },
  {
   "cell_type": "markdown",
   "id": "6145c443",
   "metadata": {},
   "source": [
    "## ATM MACHINE"
   ]
  },
  {
   "cell_type": "code",
   "execution_count": 3,
   "id": "85463dfc",
   "metadata": {},
   "outputs": [
    {
     "name": "stdout",
     "output_type": "stream",
     "text": [
      "🏦 Welcome to Python ATM 🏦\n",
      " Login successful!\n",
      "\n",
      " 1. View Balance\n",
      " 2. Deposit\n",
      " 3. Withdraw\n",
      " 4. Exit\n",
      " Your current balance is ₹1000\n",
      "\n",
      " 1. View Balance\n",
      " 2. Deposit\n",
      " 3. Withdraw\n",
      " 4. Exit\n",
      "✅ ₹65656.0 deposited successfully.\n",
      "\n",
      " 1. View Balance\n",
      " 2. Deposit\n",
      " 3. Withdraw\n",
      " 4. Exit\n",
      " ₹500.0 withdrawn successfully.\n",
      "\n",
      " 1. View Balance\n",
      " 2. Deposit\n",
      " 3. Withdraw\n",
      " 4. Exit\n",
      " Your current balance is ₹66156.0\n",
      "\n",
      " 1. View Balance\n",
      " 2. Deposit\n",
      " 3. Withdraw\n",
      " 4. Exit\n",
      " Thank you for using Python ATM. Goodbye!\n"
     ]
    }
   ],
   "source": [
    "\n",
    "atm_users = {\n",
    "    '1234': {'pin': '0000', 'balance': 1000},\n",
    "    '5678': {'pin': '1111', 'balance': 500}\n",
    "}\n",
    "\n",
    "\n",
    "def login():\n",
    "    print(\"🏦 Welcome to Python ATM 🏦\")\n",
    "    account = input(\"Enter your Account Number: \")\n",
    "    pin = input(\"Enter your PIN: \")\n",
    "\n",
    "    if account in atm_users and atm_users[account]['pin'] == pin:\n",
    "        print(\" Login successful!\\n\")\n",
    "        return account\n",
    "    else:\n",
    "        print(\" Invalid account or PIN.\\n\")\n",
    "        return None\n",
    "\n",
    "\n",
    "def atm_menu(account):\n",
    "    while True:\n",
    "        print(\" 1. View Balance\")\n",
    "        print(\" 2. Deposit\")\n",
    "        print(\" 3. Withdraw\")\n",
    "        print(\" 4. Exit\")\n",
    "\n",
    "        choice = input(\"Choose an option: \")\n",
    "\n",
    "        if choice == '1':\n",
    "            print(f\" Your current balance is ₹{atm_users[account]['balance']}\\n\")\n",
    "\n",
    "        elif choice == '2':\n",
    "            amount = float(input(\"Enter amount to deposit: ₹\"))\n",
    "            atm_users[account]['balance'] += amount\n",
    "            print(f\"✅ ₹{amount} deposited successfully.\\n\")\n",
    "\n",
    "        elif choice == '3':\n",
    "            amount = float(input(\"Enter amount to withdraw: ₹\"))\n",
    "            if amount <= atm_users[account]['balance']:\n",
    "                atm_users[account]['balance'] -= amount\n",
    "                print(f\" ₹{amount} withdrawn successfully.\\n\")\n",
    "            else:\n",
    "                print(\" Insufficient balance.\\n\")\n",
    "\n",
    "        elif choice == '4':\n",
    "            print(\" Thank you for using Python ATM. Goodbye!\")\n",
    "            break\n",
    "\n",
    "        else:\n",
    "            print(\"Invalid option. Try again.\\n\")\n",
    "\n",
    "\n",
    "account_no = login()\n",
    "if account_no:\n",
    "    atm_menu(account_no)\n"
   ]
  },
  {
   "cell_type": "code",
   "execution_count": null,
   "id": "b77d37ae",
   "metadata": {},
   "outputs": [],
   "source": []
  }
 ],
 "metadata": {
  "kernelspec": {
   "display_name": "Python 3",
   "language": "python",
   "name": "python3"
  },
  "language_info": {
   "codemirror_mode": {
    "name": "ipython",
    "version": 3
   },
   "file_extension": ".py",
   "mimetype": "text/x-python",
   "name": "python",
   "nbconvert_exporter": "python",
   "pygments_lexer": "ipython3",
   "version": "3.11.5"
  }
 },
 "nbformat": 4,
 "nbformat_minor": 5
}
