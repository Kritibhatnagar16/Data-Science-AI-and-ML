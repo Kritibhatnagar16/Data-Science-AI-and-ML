{
 "cells": [
  {
   "cell_type": "markdown",
   "id": "51c11b2d",
   "metadata": {},
   "source": [
    "## Project 2"
   ]
  },
  {
   "cell_type": "code",
   "execution_count": null,
   "id": "ca066817",
   "metadata": {},
   "outputs": [
    {
     "name": "stdout",
     "output_type": "stream",
     "text": [
      "Invalid unit. Please enter 'meters' or 'feet'.\n",
      "Invalid unit. Please enter 'meters' or 'feet'.\n",
      "Invalid unit. Please enter 'meters' or 'feet'.\n",
      "Invalid unit. Please enter 'meters' or 'feet'.\n",
      "Invalid unit. Please enter 'meters' or 'feet'.\n"
     ]
    }
   ],
   "source": [
    "\n",
    "class BMICalculator:\n",
    "    def __init__(self):\n",
    "        self.height = 0\n",
    "        self.weight = 0\n",
    "        self.bmi = 0\n",
    "\n",
    "    def get_height(self):\n",
    "        unit = input(\"Enter height unit (meters/feet): \")\n",
    "        if unit == \"meters\":\n",
    "            self.height = float(input(\"Enter your height in meters: \"))\n",
    "        elif unit == \"feet\":\n",
    "            feet = float(input(\"Enter your height in feet: \"))\n",
    "            self.height = feet * 0.3048\n",
    "            print(f\"Converted height in meters: {self.height} m\")\n",
    "\n",
    "        else:\n",
    "            print(\"Invalid unit. Please enter 'meters' or 'feet'.\")\n",
    "            self.get_height()    \n",
    "\n",
    "    def get_weight(self):\n",
    "        \n",
    "        self.weight = float(input(\"Enter your weight in kilograms: \"))\n",
    "\n",
    "    def calculate_bmi(self):\n",
    "        bmi = self.weight / (self.height ** 2)\n",
    "        print(\"Your BMI is:\", bmi)\n",
    "\n",
    "    \n",
    "    \n",
    "    def BMI_checker(self):\n",
    "        bmi = self.bmi\n",
    "        if bmi < 18.5:\n",
    "            print(\"You are underweight.\")\n",
    "        elif bmi < 25:\n",
    "            print(\"You have a normal weight.\")\n",
    "        elif bmi < 30:\n",
    "            print(\"You are overweight.\")\n",
    "        else:\n",
    "            print(\"You are obese.\")\n",
    "\n",
    "\n",
    "BMI_obj = BMICalculator()\n",
    "BMI_obj.get_height()\n",
    "BMI_obj.get_weight()\n",
    "BMI_obj.calculate_bmi()\n",
    "BMI_obj.BMI_checker()\n"
   ]
  },
  {
   "cell_type": "code",
   "execution_count": null,
   "id": "bee6e05b",
   "metadata": {},
   "outputs": [],
   "source": []
  }
 ],
 "metadata": {
  "kernelspec": {
   "display_name": "Python 3",
   "language": "python",
   "name": "python3"
  },
  "language_info": {
   "codemirror_mode": {
    "name": "ipython",
    "version": 3
   },
   "file_extension": ".py",
   "mimetype": "text/x-python",
   "name": "python",
   "nbconvert_exporter": "python",
   "pygments_lexer": "ipython3",
   "version": "3.11.5"
  }
 },
 "nbformat": 4,
 "nbformat_minor": 5
}
