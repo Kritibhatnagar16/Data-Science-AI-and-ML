{
 "cells": [
  {
   "cell_type": "markdown",
   "id": "220b3d97",
   "metadata": {},
   "source": [
    "## OS"
   ]
  },
  {
   "cell_type": "code",
   "execution_count": 2,
   "id": "6fbf4f2d",
   "metadata": {},
   "outputs": [],
   "source": [
    "import os   ###it is used to import exterbal libraries"
   ]
  },
  {
   "cell_type": "code",
   "execution_count": 4,
   "id": "8195655b",
   "metadata": {},
   "outputs": [
    {
     "name": "stdout",
     "output_type": "stream",
     "text": [
      "c:\\Users\\bhatn\\Desktop\\data science upflairs\\OS\n"
     ]
    }
   ],
   "source": [
    "file = os.getcwd()\n",
    "print(file)       ##get current working directory"
   ]
  },
  {
   "cell_type": "code",
   "execution_count": 10,
   "id": "8c2f80e5",
   "metadata": {},
   "outputs": [
    {
     "name": "stdout",
     "output_type": "stream",
     "text": [
      "total file in this directory :- ['OS.ipynb']\n"
     ]
    }
   ],
   "source": [
    "file =os.listdir(r\"c:\\Users\\bhatn\\Desktop\\data science upflairs\\OS\")     ### list all the files in directory\n",
    "print(\"total file in this directory :-\" ,file)"
   ]
  },
  {
   "cell_type": "code",
   "execution_count": 11,
   "id": "2efd54e5",
   "metadata": {},
   "outputs": [
    {
     "data": {
      "text/plain": [
       "['python.py']"
      ]
     },
     "execution_count": 11,
     "metadata": {},
     "output_type": "execute_result"
    }
   ],
   "source": [
    "path = r\"C:\\Users\\bhatn\\OneDrive\\Desktop\\python codes\"\n",
    "os.listdir(path)"
   ]
  },
  {
   "cell_type": "code",
   "execution_count": 12,
   "id": "ed2b665e",
   "metadata": {},
   "outputs": [
    {
     "data": {
      "text/plain": [
       "['basic.py',\n",
       " 'conditional.ipynb',\n",
       " 'demo.txt',\n",
       " 'exception.ipynb',\n",
       " 'Filehandling.ipynb',\n",
       " 'function.ipynb',\n",
       " 'looping.ipynb',\n",
       " 'OOPS.ipynb',\n",
       " 'text.txt',\n",
       " 'upflairs.txt']"
      ]
     },
     "execution_count": 12,
     "metadata": {},
     "output_type": "execute_result"
    }
   ],
   "source": [
    "path = r\"C:\\Users\\bhatn\\Desktop\\data science upflairs\\Python\"\n",
    "os.listdir(path)"
   ]
  },
  {
   "cell_type": "code",
   "execution_count": 13,
   "id": "44b8de6a",
   "metadata": {},
   "outputs": [
    {
     "name": "stdout",
     "output_type": "stream",
     "text": [
      "folder creter succesfully\n"
     ]
    }
   ],
   "source": [
    "os.mkdir(\"test\")  ##it will create a folder names tset\n",
    "print(\"folder creter succesfully\")"
   ]
  },
  {
   "cell_type": "code",
   "execution_count": 14,
   "id": "aff339d9",
   "metadata": {},
   "outputs": [
    {
     "data": {
      "text/plain": [
       "['OS.ipynb', 'test']"
      ]
     },
     "execution_count": 14,
     "metadata": {},
     "output_type": "execute_result"
    }
   ],
   "source": [
    "os.listdir(os.getcwd())"
   ]
  },
  {
   "cell_type": "code",
   "execution_count": 15,
   "id": "2ce8b1d5",
   "metadata": {},
   "outputs": [
    {
     "name": "stdout",
     "output_type": "stream",
     "text": [
      "folder renamed succesfully\n"
     ]
    }
   ],
   "source": [
    "os.rename(\"test\" , \"Data science\")\n",
    "print(\"folder renamed succesfully\")"
   ]
  },
  {
   "cell_type": "code",
   "execution_count": 16,
   "id": "4e8ab64b",
   "metadata": {},
   "outputs": [
    {
     "data": {
      "text/plain": [
       "['Data science', 'OS.ipynb']"
      ]
     },
     "execution_count": 16,
     "metadata": {},
     "output_type": "execute_result"
    }
   ],
   "source": [
    "os.listdir(os.getcwd())"
   ]
  },
  {
   "cell_type": "code",
   "execution_count": 17,
   "id": "0707c15c",
   "metadata": {},
   "outputs": [
    {
     "name": "stdout",
     "output_type": "stream",
     "text": [
      "folder deleted succesfully\n"
     ]
    }
   ],
   "source": [
    "os.rmdir(\"Data science\")\n",
    "print(\"folder deleted succesfully\")"
   ]
  },
  {
   "cell_type": "code",
   "execution_count": null,
   "id": "25715a7d",
   "metadata": {},
   "outputs": [],
   "source": [
    "# os.remove(\"file name\")\n"
   ]
  },
  {
   "cell_type": "code",
   "execution_count": 18,
   "id": "ea13ed02",
   "metadata": {},
   "outputs": [
    {
     "data": {
      "text/plain": [
       "'c:\\\\Users\\\\bhatn\\\\Desktop\\\\data science upflairs\\\\OS'"
      ]
     },
     "execution_count": 18,
     "metadata": {},
     "output_type": "execute_result"
    }
   ],
   "source": [
    "os.getcwd()"
   ]
  },
  {
   "cell_type": "code",
   "execution_count": 19,
   "id": "5ffe43f5",
   "metadata": {},
   "outputs": [
    {
     "name": "stdout",
     "output_type": "stream",
     "text": [
      "path exist None\n"
     ]
    }
   ],
   "source": [
    "path = r\"c:\\\\Users\\\\bhatn\\\\Desktop\\\\data science upflairs\\\\OS\"\n",
    "path = os.environ.get(path)\n",
    "print(\"path exist\" , path) "
   ]
  },
  {
   "cell_type": "code",
   "execution_count": 21,
   "id": "d21869d1",
   "metadata": {},
   "outputs": [],
   "source": [
    "# os.system(path)  #system command"
   ]
  },
  {
   "cell_type": "code",
   "execution_count": 22,
   "id": "5d232d26",
   "metadata": {},
   "outputs": [
    {
     "data": {
      "text/plain": [
       "True"
      ]
     },
     "execution_count": 22,
     "metadata": {},
     "output_type": "execute_result"
    }
   ],
   "source": [
    "path = r\"C:\\Users\\bhatn\\Desktop\\data science upflairs\\Python\\conditional.ipynb\"\n",
    "os.path.isfile(path)"
   ]
  },
  {
   "cell_type": "code",
   "execution_count": null,
   "id": "a4acdf1c",
   "metadata": {},
   "outputs": [
    {
     "data": {
      "text/plain": [
       "False"
      ]
     },
     "execution_count": 23,
     "metadata": {},
     "output_type": "execute_result"
    }
   ],
   "source": [
    "path = r\"C:\\Users\\bhatn\\Desktop\\data science upflairs\\Python\\conditional.ipynb\"\n",
    "os.path.isdir(path)"
   ]
  },
  {
   "cell_type": "code",
   "execution_count": 26,
   "id": "90c6f1dc",
   "metadata": {},
   "outputs": [
    {
     "name": "stdout",
     "output_type": "stream",
     "text": [
      "C:\\Users\\bhatn\\Desktop\\data science upflairs\\Python\n"
     ]
    },
    {
     "data": {
      "text/plain": [
       "['basic.py',\n",
       " 'conditional.ipynb',\n",
       " 'demo.txt',\n",
       " 'exception.ipynb',\n",
       " 'Filehandling.ipynb',\n",
       " 'function.ipynb',\n",
       " 'looping.ipynb',\n",
       " 'OOPS.ipynb',\n",
       " 'text.txt',\n",
       " 'upflairs.txt']"
      ]
     },
     "execution_count": 26,
     "metadata": {},
     "output_type": "execute_result"
    }
   ],
   "source": [
    "path1 = r\"C:\\Users\\bhatn\"\n",
    "path2 = r\"Desktop\\data science upflairs\\Python\"\n",
    "complete_path = os.path.join(path1 , path2)\n",
    "print(complete_path)\n",
    "os.listdir(complete_path)"
   ]
  },
  {
   "cell_type": "code",
   "execution_count": 29,
   "id": "315d9f8c",
   "metadata": {},
   "outputs": [
    {
     "name": "stdout",
     "output_type": "stream",
     "text": [
      "size of the file (in bytes):- 5658\n"
     ]
    }
   ],
   "source": [
    "\n",
    "path = r\"C:\\Users\\bhatn\\Desktop\\data science upflairs\\Python\\conditional.ipynb\"\n",
    "size =os.path.getsize(path)\n",
    "print(\"size of the file (in bytes):-\" , size)"
   ]
  },
  {
   "cell_type": "code",
   "execution_count": 31,
   "id": "3546d917",
   "metadata": {},
   "outputs": [
    {
     "name": "stdout",
     "output_type": "stream",
     "text": [
      "before dir c:\\Users\\bhatn\\Desktop\\data science upflairs\\OS\n",
      "after dir C:\\Users\\bhatn\\Desktop\\data science upflairs\\Python\n"
     ]
    }
   ],
   "source": [
    "print(\"before dir\",os.getcwd())\n",
    "os.chdir(r\"C:\\Users\\bhatn\\Desktop\\data science upflairs\\Python\")\n",
    "print(\"after dir\" ,os.getcwd())"
   ]
  },
  {
   "cell_type": "code",
   "execution_count": null,
   "id": "a76be5f0",
   "metadata": {},
   "outputs": [],
   "source": []
  }
 ],
 "metadata": {
  "kernelspec": {
   "display_name": "Python 3",
   "language": "python",
   "name": "python3"
  },
  "language_info": {
   "codemirror_mode": {
    "name": "ipython",
    "version": 3
   },
   "file_extension": ".py",
   "mimetype": "text/x-python",
   "name": "python",
   "nbconvert_exporter": "python",
   "pygments_lexer": "ipython3",
   "version": "3.11.5"
  }
 },
 "nbformat": 4,
 "nbformat_minor": 5
}
